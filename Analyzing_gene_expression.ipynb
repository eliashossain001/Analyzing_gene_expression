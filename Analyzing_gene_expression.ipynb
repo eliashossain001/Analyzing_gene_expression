{
  "nbformat": 4,
  "nbformat_minor": 0,
  "metadata": {
    "colab": {
      "provenance": []
    },
    "kernelspec": {
      "name": "python3",
      "display_name": "Python 3"
    },
    "language_info": {
      "name": "python"
    }
  },
  "cells": [
    {
      "cell_type": "code",
      "execution_count": null,
      "metadata": {
        "id": "pcRkdkxf9Pzy"
      },
      "outputs": [],
      "source": [
        "from google.colab import drive\n",
        "drive.mount('/content/drive')"
      ]
    },
    {
      "cell_type": "markdown",
      "source": [
        "# Import libraries"
      ],
      "metadata": {
        "id": "-Q_ScDEJ9pFt"
      }
    },
    {
      "cell_type": "code",
      "source": [
        "import pandas as pd\n",
        "import numpy as np\n",
        "import matplotlib.pyplot as plt\n",
        "import seaborn as sns\n",
        "from sklearn.model_selection import train_test_split\n",
        "from sklearn.preprocessing import LabelEncoder\n",
        "from sklearn.ensemble import RandomForestClassifier\n",
        "from sklearn.metrics import accuracy_score, classification_report\n",
        "import warnings\n",
        "warnings.filterwarnings('ignore')"
      ],
      "metadata": {
        "id": "8m3Eoo_c9lrt"
      },
      "execution_count": null,
      "outputs": []
    },
    {
      "cell_type": "code",
      "source": [
        "# ---- Paths ----\n",
        "ACTUAL_PATH = \"/content/drive/MyDrive/Biology/data/actual.csv\"\n",
        "INDEP_PATH  = \"/content/drive/MyDrive/Biology/data/data_set_ALL_AML_independent.csv\"\n",
        "TRAIN_PATH  = \"/content/drive/MyDrive/Biology/data/data_set_ALL_AML_train.csv\""
      ],
      "metadata": {
        "id": "2_Yhvdl19r76"
      },
      "execution_count": null,
      "outputs": []
    },
    {
      "cell_type": "code",
      "source": [
        "# Load again (for clarity)\n",
        "import pandas as pd\n",
        "\n",
        "actual_df = pd.read_csv(ACTUAL_PATH)\n",
        "train_df  = pd.read_csv(TRAIN_PATH)\n",
        "indep_df  = pd.read_csv(INDEP_PATH)\n",
        "\n",
        "print(\"Labels (actual.csv):\")\n",
        "print(actual_df.head(), \"\\n\")\n",
        "\n",
        "print(\"Training data:\")\n",
        "print(train_df.iloc[:5, :5], \"\\n\")   # show first 5 rows × 5 cols\n",
        "\n",
        "print(\"Independent data:\")\n",
        "print(indep_df.iloc[:5, :5])\n"
      ],
      "metadata": {
        "id": "T9WQNMPc9r-N"
      },
      "execution_count": null,
      "outputs": []
    },
    {
      "cell_type": "code",
      "source": [
        "actual_df.head()"
      ],
      "metadata": {
        "id": "HLlyv-I49sBq"
      },
      "execution_count": null,
      "outputs": []
    },
    {
      "cell_type": "code",
      "source": [
        "train_df.head()"
      ],
      "metadata": {
        "id": "vKiFQBl0-3af"
      },
      "execution_count": null,
      "outputs": []
    },
    {
      "cell_type": "markdown",
      "source": [
        "The training dataset represents microarray gene expression profiles for leukemia patients. Each row corresponds to one gene (or probe), identified by a Gene Description and a unique Gene Accession Number. The numerical columns (1, 2, 3, ...) represent individual patients, where each value indicates the measured expression level of that gene in that patient’s sample. For example, a value like -214 means that the probe detected lower-than-average expression for that gene in the corresponding patient, whereas a higher positive value indicates stronger expression.\n",
        "\n",
        "In addition to numerical values, the dataset contains “call” columns (e.g., call, call.1, call.2). These are microarray quality-control flags that classify whether the gene is considered Present (P), Absent (A), or Marginal (M) in a particular patient. They help biologists check data reliability, but for computational modeling we usually drop these columns and focus only on the numeric expression levels."
      ],
      "metadata": {
        "id": "6VxJinyy__l3"
      }
    },
    {
      "cell_type": "markdown",
      "source": [
        "# Data Cleaning & Reshaping"
      ],
      "metadata": {
        "id": "MnBSB4t7AQYY"
      }
    },
    {
      "cell_type": "code",
      "source": [
        "# Drop any \"call\" columns (they are quality control flags, not expression values)\n",
        "train_df_clean = train_df.drop(columns=[col for col in train_df.columns if \"call\" in col])\n",
        "indep_df_clean = indep_df.drop(columns=[col for col in indep_df.columns if \"call\" in col])\n",
        "\n",
        "print(\"Shape before cleaning:\", train_df.shape)\n",
        "print(\"Shape after cleaning:\", train_df_clean.shape)"
      ],
      "metadata": {
        "id": "a2NxMbgz-3cc"
      },
      "execution_count": null,
      "outputs": []
    },
    {
      "cell_type": "markdown",
      "source": [
        "# Use Gene Accession Number as unique index"
      ],
      "metadata": {
        "id": "cnbYEmOwAW3U"
      }
    },
    {
      "cell_type": "code",
      "source": [
        "# Set gene accession as index (gene IDs)\n",
        "train_df_clean = train_df_clean.set_index(\"Gene Accession Number\")\n",
        "indep_df_clean = indep_df_clean.set_index(\"Gene Accession Number\")\n",
        "\n",
        "# Drop Gene Description (not numeric)\n",
        "train_df_clean = train_df_clean.drop(columns=[\"Gene Description\"])\n",
        "indep_df_clean = indep_df_clean.drop(columns=[\"Gene Description\"])\n",
        "\n",
        "train_df_clean.head()"
      ],
      "metadata": {
        "id": "9rpj5hYW-3f6"
      },
      "execution_count": null,
      "outputs": []
    },
    {
      "cell_type": "markdown",
      "source": [
        "# Transpose so patients = rows, genes = columns"
      ],
      "metadata": {
        "id": "2VnaK1nJAhc7"
      }
    },
    {
      "cell_type": "code",
      "source": [
        "# Transpose so that rows = patients, columns = genes\n",
        "X_train = train_df_clean.T\n",
        "X_indep = indep_df_clean.T\n",
        "\n",
        "print(\"Train shape after transpose:\", X_train.shape)\n",
        "print(\"Independent shape after transpose:\", X_indep.shape)\n",
        "\n",
        "# Now each row = one patient, each column = one gene feature\n",
        "X_train.head()"
      ],
      "metadata": {
        "id": "vNMmAb5dAZGN"
      },
      "execution_count": null,
      "outputs": []
    },
    {
      "cell_type": "markdown",
      "source": [
        "# Merge with Labels"
      ],
      "metadata": {
        "id": "G6ixR4KAArlN"
      }
    },
    {
      "cell_type": "code",
      "source": [
        "# Load labels (ALL vs AML)\n",
        "labels = actual_df[\"cancer\"].values\n",
        "\n",
        "# Create dataframe with labels for train + independent sets\n",
        "y = pd.Series(labels, name=\"Cancer_Type\")\n",
        "\n",
        "# Match shape\n",
        "print(\"Number of patients:\", len(y))\n",
        "print(\"X_train shape + X_indep shape:\", len(X_train) + len(X_indep))"
      ],
      "metadata": {
        "id": "W1CJw-UmAZIO"
      },
      "execution_count": null,
      "outputs": []
    },
    {
      "cell_type": "markdown",
      "source": [
        "Note: The labels file (actual.csv) has both train + independent patients. That means we will later merge them carefully so patient IDs align."
      ],
      "metadata": {
        "id": "uizWH4eCAyI9"
      }
    },
    {
      "cell_type": "code",
      "source": [],
      "metadata": {
        "id": "PjK8SoKVAZKh"
      },
      "execution_count": null,
      "outputs": []
    },
    {
      "cell_type": "markdown",
      "source": [
        "# Exploratory Data Analysis (EDA)"
      ],
      "metadata": {
        "id": "iDz_XA-_A2Xj"
      }
    },
    {
      "cell_type": "code",
      "source": [
        "# Class Distribution\n",
        "\n",
        "# Count ALL vs AML patients\n",
        "import seaborn as sns\n",
        "import matplotlib.pyplot as plt\n",
        "\n",
        "sns.countplot(x=\"cancer\", data=actual_df, palette=\"viridis\")\n",
        "plt.title(\"Distribution of Patients (ALL vs AML)\", fontsize=14)\n",
        "plt.show()"
      ],
      "metadata": {
        "id": "l6iU7HaOAZN3"
      },
      "execution_count": null,
      "outputs": []
    },
    {
      "cell_type": "markdown",
      "source": [
        "The class distribution plot shows that the dataset contains more patients with Acute Lymphoblastic Leukemia (ALL) compared to Acute Myeloid Leukemia (AML). This indicates a moderate imbalance in the data, which is important to note since it may influence downstream analyses and model performance. In practice, such an imbalance reflects biological reality, as ALL cases are generally more frequent than AML, especially in pediatric populations."
      ],
      "metadata": {
        "id": "dmBuKve_CQ7t"
      }
    },
    {
      "cell_type": "code",
      "source": [
        "# 2. Expression Value Ranges\n",
        "\n",
        "# Visualize distribution of gene expression across all patients\n",
        "X_all = pd.concat([X_train, X_indep], axis=0)\n",
        "\n",
        "plt.figure(figsize=(8,5))\n",
        "sns.histplot(X_all.values.flatten(), bins=100, kde=True, color=\"purple\")\n",
        "plt.title(\"Distribution of Gene Expression Values\", fontsize=14)\n",
        "plt.xlabel(\"Expression Level\")\n",
        "plt.ylabel(\"Frequency\")\n",
        "plt.show()"
      ],
      "metadata": {
        "id": "AmkP0huIBO8s"
      },
      "execution_count": null,
      "outputs": []
    },
    {
      "cell_type": "markdown",
      "source": [
        "This plot shows the overall distribution of gene expression values across all patients. The majority of expression levels are concentrated very close to zero, forming a sharp peak, while a small number of genes show extremely high or low values, creating long tails on both sides. This indicates that most genes have relatively stable expression across samples, while a subset of genes exhibits strong variation, which may be biologically significant. Such heavy-tailed distributions are typical in microarray data and highlight the need for normalization and feature selection before applying machine learning."
      ],
      "metadata": {
        "id": "kc-EZDvlCY0W"
      }
    },
    {
      "cell_type": "code",
      "source": [
        "# 3. Variance Across Genes\n",
        "\n",
        "# Find top 20 most variable genes\n",
        "gene_variances = X_all.var().sort_values(ascending=False)[:20]\n",
        "\n",
        "plt.figure(figsize=(12,5))\n",
        "gene_variances.plot(kind=\"bar\", color=\"teal\")\n",
        "plt.title(\"Top 20 Most Variable Genes\", fontsize=14)\n",
        "plt.ylabel(\"Variance in Expression\")\n",
        "plt.show()"
      ],
      "metadata": {
        "id": "ZUE5jtnQBO-s"
      },
      "execution_count": null,
      "outputs": []
    },
    {
      "cell_type": "markdown",
      "source": [
        "This bar chart highlights the top genes with the highest variance in expression across patients. Genes with greater variance are more informative because they show stronger differences between individuals and may serve as potential biomarkers distinguishing ALL from AML. For example, probes such as M25079_s_at and HG1428:HT1428_s_at display the largest variability, suggesting that their activity levels differ widely between patients. In contrast, genes with low variance are relatively stable across all samples and contribute less to classification. Identifying these high-variance genes is a critical first step before performing feature selection or biological interpretation."
      ],
      "metadata": {
        "id": "Z3X4o5QnCp4E"
      }
    },
    {
      "cell_type": "code",
      "source": [
        "# 4. Heatmap of Top Genes\n",
        "\n",
        "# Select top 50 variable genes\n",
        "top_genes = X_all[gene_variances.index[:50]]\n",
        "\n",
        "plt.figure(figsize=(14,8))\n",
        "sns.heatmap(top_genes.T, cmap=\"RdBu_r\", center=0)\n",
        "plt.title(\"Heatmap of Top 50 Variable Genes\", fontsize=16)\n",
        "plt.xlabel(\"Patients\")\n",
        "plt.ylabel(\"Genes\")\n",
        "plt.show()\n"
      ],
      "metadata": {
        "id": "3c9FT-roBPBW"
      },
      "execution_count": null,
      "outputs": []
    },
    {
      "cell_type": "markdown",
      "source": [
        "This heatmap visualizes the expression patterns of the top variable genes across all patients. Each row corresponds to a gene, and each column represents a patient, with colors indicating expression intensity: red shades for higher expression and blue shades for lower expression. The alternating color patterns suggest that certain genes are consistently upregulated or downregulated in subsets of patients, which may correspond to the two leukemia subtypes (ALL vs AML). Such clustering is a strong indication that gene expression carries biologically meaningful signals that can differentiate between cancer types, making these genes potential biomarkers for classification."
      ],
      "metadata": {
        "id": "aVFycOv1DMfy"
      }
    },
    {
      "cell_type": "code",
      "source": [
        "# 5. PCA Visualization\n",
        "\n",
        "from sklearn.decomposition import PCA\n",
        "from sklearn.preprocessing import StandardScaler\n",
        "\n",
        "# Standardize features\n",
        "scaler = StandardScaler()\n",
        "X_scaled = scaler.fit_transform(X_all)\n",
        "\n",
        "# Apply PCA\n",
        "pca = PCA(n_components=2)\n",
        "X_pca = pca.fit_transform(X_scaled)\n",
        "\n",
        "plt.figure(figsize=(8,6))\n",
        "sns.scatterplot(x=X_pca[:,0], y=X_pca[:,1], hue=actual_df['cancer'], palette=\"Set2\")\n",
        "plt.title(\"PCA of Gene Expression (2 Components)\", fontsize=14)\n",
        "plt.xlabel(\"PC1 (%.2f%% variance)\" % (pca.explained_variance_ratio_[0]*100))\n",
        "plt.ylabel(\"PC2 (%.2f%% variance)\" % (pca.explained_variance_ratio_[1]*100))\n",
        "plt.show()\n"
      ],
      "metadata": {
        "id": "lJXYocpYBPEb"
      },
      "execution_count": null,
      "outputs": []
    },
    {
      "cell_type": "markdown",
      "source": [
        "This scatter plot shows the PCA (Principal Component Analysis) projection of patient gene expression profiles into two dimensions. Each point represents a patient, with colors indicating their leukemia subtype (ALL vs AML). The first two principal components capture the largest sources of variation in the dataset, and we can observe that while there is some overlap, patients begin to form distinct clusters based on their cancer type. This separation suggests that gene expression patterns carry meaningful signals that differentiate ALL from AML, making PCA a powerful tool for visualizing the hidden structure of high-dimensional biological data."
      ],
      "metadata": {
        "id": "N2a-SrscDdFH"
      }
    },
    {
      "cell_type": "code",
      "source": [
        "# 6. Volcano Plot (Gene-Level Differential Expression)\n",
        "\n",
        "from scipy.stats import ttest_ind\n",
        "\n",
        "# Separate ALL vs AML patients\n",
        "all_patients = actual_df[actual_df['cancer']==\"ALL\"].index.values\n",
        "aml_patients = actual_df[actual_df['cancer']==\"AML\"].index.values\n",
        "\n",
        "X_all_aligned = X_all.reset_index(drop=True)\n",
        "all_expr = X_all_aligned.iloc[all_patients]\n",
        "aml_expr = X_all_aligned.iloc[aml_patients]\n",
        "\n",
        "# Compute t-test for each gene\n",
        "pvals = []\n",
        "fold_changes = []\n",
        "\n",
        "for gene in X_all.columns:\n",
        "    t, p = ttest_ind(all_expr[gene], aml_expr[gene], equal_var=False)\n",
        "    pvals.append(p)\n",
        "    fold_changes.append(all_expr[gene].mean() - aml_expr[gene].mean())\n",
        "\n",
        "# Volcano plot\n",
        "plt.figure(figsize=(8,6))\n",
        "sns.scatterplot(x=fold_changes, y=-np.log10(pvals), alpha=0.7)\n",
        "plt.axhline(-np.log10(0.05), color=\"red\", linestyle=\"--\")\n",
        "plt.title(\"Volcano Plot: Differential Gene Expression\", fontsize=14)\n",
        "plt.xlabel(\"Fold Change (ALL - AML)\")\n",
        "plt.ylabel(\"-log10(p-value)\")\n",
        "plt.show()\n"
      ],
      "metadata": {
        "id": "yvmyQNTCBo4T"
      },
      "execution_count": null,
      "outputs": []
    },
    {
      "cell_type": "markdown",
      "source": [
        "This plot combines statistical significance with expression differences to highlight genes that are most different between ALL and AML. The x-axis shows the fold change (difference in average expression between ALL and AML), while the y-axis shows the –log10(p-value) from a statistical test, meaning points higher up are more significant. Genes near the center have little difference between subtypes, whereas genes far to the left or right with high significance are strong candidate biomarkers. The red dashed line marks the threshold for statistical significance (p = 0.05). Overall, this plot reveals which genes are both highly variable and statistically reliable in distinguishing ALL from AML, making them prime targets for biological interpretation and downstream modeling."
      ],
      "metadata": {
        "id": "GKQaH_vcDxto"
      }
    },
    {
      "cell_type": "code",
      "source": [
        "# We are going to extract the significant genes. We’ll filter by: p < 0.05 (significant) |fold change| > threshold (biologically relevant, e.g., >500)\n",
        "\n",
        "import pandas as pd\n",
        "from scipy.stats import ttest_ind\n",
        "import numpy as np\n",
        "\n",
        "# Align ALL vs AML samples\n",
        "all_patients = actual_df[actual_df['cancer']==\"ALL\"].index.values\n",
        "aml_patients = actual_df[actual_df['cancer']==\"AML\"].index.values\n",
        "\n",
        "X_all_aligned = X_all.reset_index(drop=True)\n",
        "all_expr = X_all_aligned.iloc[all_patients]\n",
        "aml_expr = X_all_aligned.iloc[aml_patients]\n",
        "\n",
        "# Compute differential expression\n",
        "pvals = []\n",
        "fold_changes = []\n",
        "genes = X_all.columns\n",
        "\n",
        "for gene in genes:\n",
        "    t, p = ttest_ind(all_expr[gene], aml_expr[gene], equal_var=False)\n",
        "    pvals.append(p)\n",
        "    fold_changes.append(all_expr[gene].mean() - aml_expr[gene].mean())\n",
        "\n",
        "results_df = pd.DataFrame({\n",
        "    \"Gene\": genes,\n",
        "    \"FoldChange\": fold_changes,\n",
        "    \"pval\": pvals\n",
        "})\n",
        "results_df[\"-log10p\"] = -np.log10(results_df[\"pval\"])\n",
        "\n",
        "# Filter significant genes\n",
        "sig_genes = results_df[(results_df[\"pval\"] < 0.05) & (abs(results_df[\"FoldChange\"]) > 500)]\n",
        "sig_genes = sig_genes.sort_values(\"pval\").head(10)  # top 10\n",
        "sig_genes\n"
      ],
      "metadata": {
        "id": "sKg1Zh4iFk6G"
      },
      "execution_count": null,
      "outputs": []
    },
    {
      "cell_type": "code",
      "source": [
        "# 7. Clustering Patients\n",
        "\n",
        "from sklearn.cluster import KMeans\n",
        "\n",
        "# Try unsupervised clustering into 2 groups\n",
        "kmeans = KMeans(n_clusters=2, random_state=42)\n",
        "clusters = kmeans.fit_predict(X_scaled)\n",
        "\n",
        "plt.figure(figsize=(8,6))\n",
        "sns.scatterplot(x=X_pca[:,0], y=X_pca[:,1], hue=clusters, palette=\"coolwarm\")\n",
        "plt.title(\"Unsupervised Clustering of Patients\", fontsize=14)\n",
        "plt.xlabel(\"PC1\")\n",
        "plt.ylabel(\"PC2\")\n",
        "plt.show()\n"
      ],
      "metadata": {
        "id": "A6yd79raBo7A"
      },
      "execution_count": null,
      "outputs": []
    },
    {
      "cell_type": "markdown",
      "source": [
        "Unlike the earlier PCA plot, this one uses class labels for coloring: one color for ALL and another for AML. We can see that patients naturally separate into two clusters, with AML cases (blue) grouping more distinctly away from ALL cases (orange). This clear separation indicates that the top principal components effectively capture biologically meaningful variation in gene expression, confirming that the dataset contains strong discriminative signals between the two leukemia subtypes."
      ],
      "metadata": {
        "id": "rY6-RnJUEBCj"
      }
    },
    {
      "cell_type": "markdown",
      "source": [
        "# LLM Integration"
      ],
      "metadata": {
        "id": "iAm9LSMNEkSH"
      }
    },
    {
      "cell_type": "code",
      "source": [
        "!pip install transformers accelerate\n",
        "\n",
        "from transformers import AutoTokenizer, AutoModelForCausalLM\n",
        "import torch"
      ],
      "metadata": {
        "id": "UAcZ4vaxBo9j"
      },
      "execution_count": null,
      "outputs": []
    },
    {
      "cell_type": "code",
      "source": [
        "pip install sacremoses"
      ],
      "metadata": {
        "id": "rWflEaHtFFs_"
      },
      "execution_count": null,
      "outputs": []
    },
    {
      "cell_type": "markdown",
      "source": [
        "# Load BioGPT"
      ],
      "metadata": {
        "id": "0VbYUeYkE7gI"
      }
    },
    {
      "cell_type": "code",
      "source": [
        "model_name = \"microsoft/biogpt\"\n",
        "\n",
        "tokenizer = AutoTokenizer.from_pretrained(model_name)\n",
        "model = AutoModelForCausalLM.from_pretrained(model_name)"
      ],
      "metadata": {
        "id": "yXMAyh20BpAm"
      },
      "execution_count": null,
      "outputs": []
    },
    {
      "cell_type": "markdown",
      "source": [
        "# Query BioGPT Automatically"
      ],
      "metadata": {
        "id": "fdQxvgnyF-c5"
      }
    },
    {
      "cell_type": "code",
      "source": [
        "def query_biogpt(gene_name, context=\"acute leukemia\"):\n",
        "    # Use a structured prompt so it doesn't echo\n",
        "    prompt = f\"Gene {gene_name} is associated with {context}. Its biological role is that\"\n",
        "    inputs = tokenizer(prompt, return_tensors=\"pt\")\n",
        "    outputs = model.generate(\n",
        "        **inputs,\n",
        "        max_new_tokens=120,\n",
        "        do_sample=True,\n",
        "        top_k=40,\n",
        "        top_p=0.9,\n",
        "        temperature=0.7\n",
        "    )\n",
        "    return tokenizer.decode(outputs[0], skip_special_tokens=True)\n",
        "\n",
        "\n",
        "# Loop through top significant genes\n",
        "for gene in sig_genes[\"Gene\"].values:\n",
        "    print(f\"🔬 Gene: {gene}\")\n",
        "    print(query_biogpt(gene, context=\"acute leukemia\"))\n",
        "    print(\"-\"*80)"
      ],
      "metadata": {
        "id": "axqhPS2jBpCJ"
      },
      "execution_count": null,
      "outputs": []
    },
    {
      "cell_type": "markdown",
      "source": [
        "# Run on Significant Genes"
      ],
      "metadata": {
        "id": "MFdqZq12Hjcn"
      }
    },
    {
      "cell_type": "code",
      "source": [
        "# Run BioGPT on top genes from volcano plot\n",
        "explanations = []\n",
        "\n",
        "for gene in sig_genes[\"Gene\"].values:\n",
        "    response = query_biogpt(gene, context=\"acute leukemia\")\n",
        "    explanations.append({\"Gene\": gene, \"Explanation\": response})\n",
        "\n",
        "bio_report = pd.DataFrame(explanations)\n",
        "bio_report\n"
      ],
      "metadata": {
        "id": "SAYUJ_tyHirX"
      },
      "execution_count": null,
      "outputs": []
    },
    {
      "cell_type": "code",
      "source": [
        "# Save outputs for later use (CSV or Markdown)\n",
        "bio_report.to_csv(\"LLM_gene_explanations.csv\", index=False)\n",
        "\n",
        "with open(\"LLM_gene_explanations.md\", \"w\") as f:\n",
        "    for row in explanations:\n",
        "        f.write(f\"### 🔬 {row['Gene']}\\n{row['Explanation']}\\n\\n\")"
      ],
      "metadata": {
        "id": "R5Swrr4sHiuO"
      },
      "execution_count": null,
      "outputs": []
    },
    {
      "cell_type": "markdown",
      "source": [
        "# Pathway summarization"
      ],
      "metadata": {
        "id": "lkc0zftqIOUf"
      }
    },
    {
      "cell_type": "code",
      "source": [
        "query_biogpt(\"MYC, TP53, KRAS\", context=\"cancer signaling pathways\")\n"
      ],
      "metadata": {
        "id": "_rZKHXaRHiyC"
      },
      "execution_count": null,
      "outputs": []
    },
    {
      "cell_type": "markdown",
      "source": [
        "# Drug Target Prediction"
      ],
      "metadata": {
        "id": "2p-p5_BmITrW"
      }
    },
    {
      "cell_type": "code",
      "source": [
        "def drug_target_prediction(gene_list, context=\"acute leukemia\"):\n",
        "    genes = \", \".join(gene_list)\n",
        "\n",
        "    # Force it into explanation mode with a continuation-style prompt\n",
        "    prompt = f\"\"\"\n",
        "Genes {genes} have been studied in {context}.\n",
        "Potential drug targets associated with these genes include\n",
        "\"\"\"\n",
        "\n",
        "    inputs = tokenizer(prompt, return_tensors=\"pt\")\n",
        "    outputs = model.generate(\n",
        "        **inputs,\n",
        "        max_new_tokens=200,\n",
        "        do_sample=True,\n",
        "        top_k=40,\n",
        "        top_p=0.9,\n",
        "        temperature=0.7,\n",
        "        repetition_penalty=1.2  # discourage repeating the prompt\n",
        "    )\n",
        "\n",
        "    return tokenizer.decode(outputs[0], skip_special_tokens=True)\n",
        "\n",
        "\n",
        "# Example usage\n",
        "drug_target_prediction([\"M25079\", \"D63874\"], context=\"acute leukemia\")\n"
      ],
      "metadata": {
        "id": "CsBvh0p_BpEY"
      },
      "execution_count": null,
      "outputs": []
    },
    {
      "cell_type": "code",
      "source": [],
      "metadata": {
        "id": "oxCj1kCkJJnv"
      },
      "execution_count": null,
      "outputs": []
    }
  ]
}